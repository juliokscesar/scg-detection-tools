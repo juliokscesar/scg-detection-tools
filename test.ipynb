{
 "cells": [
  {
   "cell_type": "markdown",
   "metadata": {},
   "source": [
    "# Testing individual functions"
   ]
  },
  {
   "cell_type": "markdown",
   "metadata": {},
   "source": [
    "## Test converting image color space"
   ]
  },
  {
   "cell_type": "code",
   "execution_count": null,
   "metadata": {},
   "outputs": [],
   "source": [
    "import scg_detection_tools.utils.image_tools as imtools\n",
    "\n",
    "IMG = \"/home/juliocesar/leaf-detection/imgs/light_group/images/5_640x640_sparse_png.rf.8487b4dcf757592bdee225c7d4132935.jpg\"\n",
    "imtools.plot_image(IMG, cvt_to_rgb=False)\n",
    "for cspace in imtools.COLOR_SPACES_CV2:\n",
    "    print(cspace, flush=True)\n",
    "    cvt = imtools.convert(IMG, cspace)\n",
    "    imtools.plot_image(cvt, cvt_to_rgb=False)"
   ]
  }
 ],
 "metadata": {
  "kernelspec": {
   "display_name": "yoloanalysis",
   "language": "python",
   "name": "python3"
  },
  "language_info": {
   "codemirror_mode": {
    "name": "ipython",
    "version": 3
   },
   "file_extension": ".py",
   "mimetype": "text/x-python",
   "name": "python",
   "nbconvert_exporter": "python",
   "pygments_lexer": "ipython3",
   "version": "3.10.15"
  }
 },
 "nbformat": 4,
 "nbformat_minor": 2
}
