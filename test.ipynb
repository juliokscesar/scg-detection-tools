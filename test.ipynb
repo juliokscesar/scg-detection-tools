{
 "cells": [
  {
   "cell_type": "markdown",
   "metadata": {},
   "source": [
    "# Testing individual functions"
   ]
  },
  {
   "cell_type": "markdown",
   "metadata": {},
   "source": [
    "## Test: filtering duplicate boxes"
   ]
  },
  {
   "cell_type": "code",
   "execution_count": null,
   "metadata": {},
   "outputs": [],
   "source": [
    "# Test 'filter_detections_xyxy'\n",
    "from scg_detection_tools.models import from_type, filter_detections_xyxy\n",
    "from scg_detection_tools.detect import Detector\n",
    "import scg_detection_tools.utils.image_tools as imtools\n",
    "import matplotlib.pyplot as plt\n",
    "import cv2\n",
    "\n",
    "model = from_type(\"yolonas\", \"/home/juliocesar/leaf-detection/checkpoints/yolonas/large/train6/ckpt_best.pth\")\n",
    "detector = Detector(model)\n",
    "detector.update_parameters(confidence=50.0, slice_detect=True, slice_wh=(480,480), slice_fill=False, box_filter=False)\n",
    "\n",
    "imgs = [\n",
    "    \"/home/juliocesar/leaf-detection/imgs/analysis_test/0_640x640.png\",\n",
    "    \"/home/juliocesar/leaf-detection/imgs/analysis_test/1_640x640.png\",\n",
    "    \"/home/juliocesar/leaf-detection/imgs/analysis_test/2_640x640_aglom.png\",\n",
    "]\n",
    "detections = detector(imgs)\n",
    "\n",
    "_, axs = plt.subplots(ncols=len(imgs), figsize=(24,15))\n",
    "for i, (img, det) in enumerate(zip(imgs, detections)):\n",
    "    axs[i].axis(\"off\")\n",
    "    orig_img = cv2.imread(img)\n",
    "    orig_img = cv2.cvtColor(orig_img, cv2.COLOR_BGR2RGB)\n",
    "    \n",
    "    axs[i].imshow(imtools.box_annotated_image(orig_img, det))\n",
    "    axs[i].set_title(\"Before filtering box\")\n",
    "plt.show()\n",
    "\n",
    "detector.update_parameters(box_filter=True, box_filter_thresh=0.9)\n",
    "detections = detector(imgs)\n",
    "_, axs = plt.subplots(ncols=len(imgs), figsize=(24,15))\n",
    "for i, (img, det) in enumerate(zip(imgs, detections)):\n",
    "    axs[i].axis(\"off\")\n",
    "    orig_img = cv2.imread(img)\n",
    "    orig_img = cv2.cvtColor(orig_img, cv2.COLOR_BGR2RGB)\n",
    "    \n",
    "    axs[i].imshow(imtools.box_annotated_image(orig_img, det))\n",
    "    axs[i].set_title(\"After filtering box\")\n",
    "plt.show()\n"
   ]
  }
 ],
 "metadata": {
  "kernelspec": {
   "display_name": "yoloanalysis",
   "language": "python",
   "name": "python3"
  },
  "language_info": {
   "codemirror_mode": {
    "name": "ipython",
    "version": 3
   },
   "file_extension": ".py",
   "mimetype": "text/x-python",
   "name": "python",
   "nbconvert_exporter": "python",
   "pygments_lexer": "ipython3",
   "version": "3.10.14"
  }
 },
 "nbformat": 4,
 "nbformat_minor": 2
}
