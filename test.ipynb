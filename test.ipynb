{
 "cells": [
  {
   "cell_type": "markdown",
   "metadata": {},
   "source": [
    "# Testing individual functions"
   ]
  },
  {
   "cell_type": "markdown",
   "metadata": {},
   "source": [
    "## Test: filtering duplicate boxes"
   ]
  },
  {
   "cell_type": "code",
   "execution_count": null,
   "metadata": {},
   "outputs": [],
   "source": [
    "# Test 'filter_detections_xyxy'\n",
    "from scg_detection_tools.models import from_type\n",
    "from scg_detection_tools.detect import Detector\n",
    "from scg_detection_tools.filters import DetectionFilterDuplicates\n",
    "import scg_detection_tools.utils.image_tools as imtools\n",
    "import matplotlib.pyplot as plt\n",
    "import cv2\n",
    "\n",
    "model = from_type(\"yolov8\", \"/home/juliocesar/leaf-detection/checkpoints/yolov10/large/train6/best.pt\")\n",
    "# model = from_type(\"yolonas\", \"/home/juliocesar/leaf-detection/checkpoints/yolonas/large/train8/ckpt_best.pth\")\n",
    "detector = Detector(model)\n",
    "detector.update_parameters(confidence=50.0, slice_detect=False, slice_wh=(480,480), slice_fill=False)\n",
    "\n",
    "imgs = [\n",
    "    \"/home/juliocesar/leaf-detection/imgs/analysis_test/0_640x640.png\",\n",
    "    \"/home/juliocesar/leaf-detection/imgs/analysis_test/1_640x640.png\",\n",
    "    \"/home/juliocesar/leaf-detection/imgs/analysis_test/2_640x640_aglom.png\",\n",
    "]\n",
    "detections = detector(imgs)\n",
    "\n",
    "_, axs = plt.subplots(ncols=len(imgs), figsize=(24,15))\n",
    "for i, (img, det) in enumerate(zip(imgs, detections)):\n",
    "    axs[i].axis(\"off\")\n",
    "    orig_img = cv2.imread(img)\n",
    "    orig_img = cv2.cvtColor(orig_img, cv2.COLOR_BGR2RGB)\n",
    "    \n",
    "    axs[i].imshow(imtools.box_annotated_image(orig_img, det))\n",
    "    axs[i].set_title(\"Before filtering box\")\n",
    "plt.show()\n",
    "\n",
    "for i in range(len(detections)):\n",
    "    filter = DetectionFilterDuplicates(intersection_tresh=0.8, imghw=cv2.imread(imgs[i]).shape[:2])\n",
    "    detections[i] = filter(detections[i])\n",
    "\n",
    "_, axs = plt.subplots(ncols=len(imgs), figsize=(24,15))\n",
    "for i, (img, det) in enumerate(zip(imgs, detections)):\n",
    "    axs[i].axis(\"off\")\n",
    "    orig_img = cv2.imread(img)\n",
    "    orig_img = cv2.cvtColor(orig_img, cv2.COLOR_BGR2RGB)\n",
    "    \n",
    "    axs[i].imshow(imtools.box_annotated_image(orig_img, det))\n",
    "    axs[i].set_title(\"After filtering box\")\n",
    "plt.show()\n"
   ]
  },
  {
   "cell_type": "markdown",
   "metadata": {},
   "source": [
    "## Test new dataset generation code"
   ]
  },
  {
   "cell_type": "code",
   "execution_count": null,
   "metadata": {},
   "outputs": [],
   "source": [
    "%set_env CUDA_VISIBLE_DEVICES=1"
   ]
  },
  {
   "cell_type": "code",
   "execution_count": null,
   "metadata": {},
   "outputs": [],
   "source": [
    "from scg_detection_tools.generate import DatasetGenerator\n",
    "from scg_detection_tools.models import from_type\n",
    "from scg_detection_tools.utils.file_handling import get_all_files_from_paths\n",
    "\n",
    "det_params = {\n",
    "    \"confidence\": 50.0,\n",
    "    \"slice_detect\": True,\n",
    "    \"slice_wh\": (640,640),\n",
    "    \"slice_fill\": True,\n",
    "    \"detection_filters\": { \"duplicate_filter\": True, \"duplicate_filter_thresh\": 0.95, \"object_size_filter\": True, \"object_size_max_wh\": (80,80), }\n",
    "}\n",
    "MODEL_PATH = \"/home/juliocesar/leaf-detection/checkpoints/yolov10/large/train6/best.pt\"\n",
    "MODEL_TYPE = \"yolov8\"\n",
    "# MODEL_PATH = \"/home/juliocesar/leaf-detection/checkpoints/yolonas/large/train7/ckpt_best.pth\"\n",
    "# MODEL_TYPE = \"yolonas\"\n",
    "model = from_type(MODEL_TYPE, MODEL_PATH)\n",
    "\n",
    "# IMG_DIR = \"/home/juliocesar/leaf-detection/imgs/newtodataset\"\n",
    "# imgs = get_all_files_from_paths(IMG_DIR)\n",
    "imgs = [\"/home/juliocesar/leaf-detection/imgs/rawimgs/l.png\"]\n",
    "\n",
    "generator = DatasetGenerator(\n",
    "    img_files=imgs,\n",
    "    class_labels=[\"leaf\"],\n",
    "    model=model,\n",
    "    annotation_type=\"box\",\n",
    "    sam2_path=\"/home/juliocesar/leaf-detection/checkpoints/sam2/sam2_hiera_tiny.pt\",\n",
    "    detection_parameters=det_params,\n",
    "    save_on_slice=True,\n",
    "    # on_slice_resize=(640,640),\n",
    "    augmentation_steps=None,\n",
    ")\n",
    "generator.generate(save_on_finish=True)"
   ]
  }
 ],
 "metadata": {
  "kernelspec": {
   "display_name": "yoloanalysis",
   "language": "python",
   "name": "python3"
  },
  "language_info": {
   "codemirror_mode": {
    "name": "ipython",
    "version": 3
   },
   "file_extension": ".py",
   "mimetype": "text/x-python",
   "name": "python",
   "nbconvert_exporter": "python",
   "pygments_lexer": "ipython3",
   "version": "3.10.14"
  }
 },
 "nbformat": 4,
 "nbformat_minor": 2
}
